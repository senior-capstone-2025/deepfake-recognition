{
 "cells": [
  {
   "cell_type": "markdown",
   "id": "de1a7206-e48a-41c3-a7cf-99969c87b0c2",
   "metadata": {},
   "source": [
    "#### Feature Fusion\n",
    "Main Objective: *Combine content and style features.*\n",
    "- Implement style attention module."
   ]
  },
  {
   "cell_type": "markdown",
   "id": "d32f92c4-561d-4ca8-a1df-288c4b7159f7",
   "metadata": {},
   "source": [
    "#### Temporal Transformer Encoder\n",
    "Main Objective: *Final classification.*\n",
    "- Implement TTE with MLP head to determine fake/real."
   ]
  },
  {
   "cell_type": "code",
   "execution_count": null,
   "id": "032e3570",
   "metadata": {},
   "outputs": [],
   "source": []
  }
 ],
 "metadata": {
  "jupytext": {
   "cell_metadata_filter": "-all",
   "main_language": "python",
   "notebook_metadata_filter": "-all"
  },
  "kernelspec": {
   "display_name": "Python 3 (ipykernel)",
   "language": "python",
   "name": "python3"
  },
  "language_info": {
   "codemirror_mode": {
    "name": "ipython",
    "version": 3
   },
   "file_extension": ".py",
   "mimetype": "text/x-python",
   "name": "python",
   "nbconvert_exporter": "python",
   "pygments_lexer": "ipython3",
   "version": "3.12.3"
  }
 },
 "nbformat": 4,
 "nbformat_minor": 5
}
