{
 "cells": [
  {
   "cell_type": "markdown",
   "id": "1742a67e-078c-4cce-b8fd-b2ed37f6ba00",
   "metadata": {},
   "source": [
    "#### Preprocessor for Raw Video Footage\n",
    "Main Objective: *Prepare videos for feature extraction.*\n",
    "- Load the dataset\n",
    "- Extract face sequences\n",
    "- Scale videos 224 x 224\n"
   ]
  },
  {
   "cell_type": "code",
   "execution_count": 2,
   "id": "c9724689",
   "metadata": {},
   "outputs": [
    {
     "name": "stdout",
     "output_type": "stream",
     "text": [
      "hello world\n"
     ]
    }
   ],
   "source": [
    "print ('hello world')"
   ]
  },
  {
   "cell_type": "code",
   "execution_count": null,
   "id": "4045292d-57ed-417a-a3c1-23be7436f25f",
   "metadata": {},
   "outputs": [],
   "source": []
  },
  {
   "cell_type": "code",
   "execution_count": null,
   "id": "f5f3d5bd-721e-46aa-a07a-d896893f9fb7",
   "metadata": {},
   "outputs": [],
   "source": []
  },
  {
   "cell_type": "code",
   "execution_count": null,
   "id": "b1761cc5-66f1-4a6e-a95e-ca4af4a630fa",
   "metadata": {},
   "outputs": [],
   "source": []
  }
 ],
 "metadata": {
  "jupytext": {
   "cell_metadata_filter": "-all",
   "main_language": "python",
   "notebook_metadata_filter": "-all"
  },
  "kernelspec": {
   "display_name": "myenv",
   "language": "python",
   "name": "python3"
  },
  "language_info": {
   "codemirror_mode": {
    "name": "ipython",
    "version": 3
   },
   "file_extension": ".py",
   "mimetype": "text/x-python",
   "name": "python",
   "nbconvert_exporter": "python",
   "pygments_lexer": "ipython3",
   "version": "3.12.3"
  }
 },
 "nbformat": 4,
 "nbformat_minor": 5
}
