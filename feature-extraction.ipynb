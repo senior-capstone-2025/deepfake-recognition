{
 "cells": [
  {
   "cell_type": "markdown",
   "id": "aec86082-07e5-441c-88aa-71a499c0c831",
   "metadata": {},
   "source": [
    "#### Feature Extraction\n",
    "Main Objective: *Extract content and style features.*\n",
    "- Style features - PsP encoder to pretrained StyleGRU\n",
    "- Content features - Use pretrained 3D ResNet-50\n"
   ]
  },
  {
   "cell_type": "code",
   "execution_count": null,
   "id": "8771f7ff-9b44-4c69-a548-dc83d1d915cc",
   "metadata": {},
   "outputs": [],
   "source": []
  }
 ],
 "metadata": {
  "kernelspec": {
   "display_name": "Python 3 (ipykernel)",
   "language": "python",
   "name": "python3"
  },
  "language_info": {
   "codemirror_mode": {
    "name": "ipython",
    "version": 3
   },
   "file_extension": ".py",
   "mimetype": "text/x-python",
   "name": "python",
   "nbconvert_exporter": "python",
   "pygments_lexer": "ipython3",
   "version": "3.12.3"
  }
 },
 "nbformat": 4,
 "nbformat_minor": 5
}
